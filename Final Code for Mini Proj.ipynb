{
 "cells": [
  {
   "cell_type": "code",
   "execution_count": 1,
   "metadata": {},
   "outputs": [],
   "source": [
    "# Importing Basic Modules\n",
    "\n",
    "import time\n",
    "import math\n",
    "import numpy as np\n",
    "import pandas as pd\n",
    "import matplotlib.pyplot as plt\n",
    "import seaborn as sns\n",
    "from sklearn.model_selection import train_test_split\n",
    "from sklearn.metrics import r2_score,mean_absolute_error,mean_squared_error\n",
    "from sklearn.preprocessing import StandardScaler\n",
    "\n",
    "# Importing Algorithms\n",
    "\n",
    "from sklearn.linear_model import LinearRegression\n",
    "from sklearn.ensemble import RandomForestRegressor\n",
    "from sklearn.neighbors import KNeighborsClassifier\n",
    "from sklearn.ensemble import ExtraTreesRegressor\n",
    "from sklearn.linear_model import Ridge\n",
    "from sklearn.svm import SVR\n"
   ]
  },
  {
   "cell_type": "code",
   "execution_count": 2,
   "metadata": {},
   "outputs": [
    {
     "name": "stdout",
     "output_type": "stream",
     "text": [
      "<class 'pandas.core.frame.DataFrame'>\n",
      "RangeIndex: 52499 entries, 0 to 52498\n",
      "Data columns (total 7 columns):\n",
      " #   Column        Non-Null Count  Dtype \n",
      "---  ------        --------------  ----- \n",
      " 0   Bank          52499 non-null  int64 \n",
      " 1   Week          52499 non-null  int64 \n",
      " 2   Day           52499 non-null  int64 \n",
      " 3   Number        52499 non-null  int64 \n",
      " 4   ARRIVAL TIME  52499 non-null  object\n",
      " 5   SERVICE TIME  52499 non-null  int64 \n",
      " 6   WAITING TIME  52499 non-null  int64 \n",
      "dtypes: int64(6), object(1)\n",
      "memory usage: 2.8+ MB\n"
     ]
    }
   ],
   "source": [
    "#importing dataset\n",
    "\n",
    "df = pd.read_csv('Final Bank customers data.csv')\n",
    "df.drop('TOTAL TIME', axis=1,inplace=True)\n",
    "df.info()"
   ]
  },
  {
   "cell_type": "code",
   "execution_count": 3,
   "metadata": {},
   "outputs": [
    {
     "data": {
      "text/html": [
       "<div>\n",
       "<style scoped>\n",
       "    .dataframe tbody tr th:only-of-type {\n",
       "        vertical-align: middle;\n",
       "    }\n",
       "\n",
       "    .dataframe tbody tr th {\n",
       "        vertical-align: top;\n",
       "    }\n",
       "\n",
       "    .dataframe thead th {\n",
       "        text-align: right;\n",
       "    }\n",
       "</style>\n",
       "<table border=\"1\" class=\"dataframe\">\n",
       "  <thead>\n",
       "    <tr style=\"text-align: right;\">\n",
       "      <th></th>\n",
       "      <th>Bank</th>\n",
       "      <th>Week</th>\n",
       "      <th>Day</th>\n",
       "      <th>Number</th>\n",
       "      <th>SERVICE TIME</th>\n",
       "      <th>WAITING TIME</th>\n",
       "    </tr>\n",
       "  </thead>\n",
       "  <tbody>\n",
       "    <tr>\n",
       "      <th>count</th>\n",
       "      <td>52499.000000</td>\n",
       "      <td>52499.000000</td>\n",
       "      <td>52499.000000</td>\n",
       "      <td>52499.000000</td>\n",
       "      <td>52499.000000</td>\n",
       "      <td>52499.000000</td>\n",
       "    </tr>\n",
       "    <tr>\n",
       "      <th>mean</th>\n",
       "      <td>1.989200</td>\n",
       "      <td>2.522639</td>\n",
       "      <td>2.956628</td>\n",
       "      <td>447.596469</td>\n",
       "      <td>13.549344</td>\n",
       "      <td>13.182384</td>\n",
       "    </tr>\n",
       "    <tr>\n",
       "      <th>std</th>\n",
       "      <td>0.816569</td>\n",
       "      <td>1.122348</td>\n",
       "      <td>1.409736</td>\n",
       "      <td>267.258658</td>\n",
       "      <td>5.906840</td>\n",
       "      <td>5.955687</td>\n",
       "    </tr>\n",
       "    <tr>\n",
       "      <th>min</th>\n",
       "      <td>1.000000</td>\n",
       "      <td>1.000000</td>\n",
       "      <td>1.000000</td>\n",
       "      <td>1.000000</td>\n",
       "      <td>4.000000</td>\n",
       "      <td>3.000000</td>\n",
       "    </tr>\n",
       "    <tr>\n",
       "      <th>25%</th>\n",
       "      <td>1.000000</td>\n",
       "      <td>2.000000</td>\n",
       "      <td>2.000000</td>\n",
       "      <td>219.000000</td>\n",
       "      <td>9.000000</td>\n",
       "      <td>9.000000</td>\n",
       "    </tr>\n",
       "    <tr>\n",
       "      <th>50%</th>\n",
       "      <td>2.000000</td>\n",
       "      <td>3.000000</td>\n",
       "      <td>3.000000</td>\n",
       "      <td>438.000000</td>\n",
       "      <td>13.000000</td>\n",
       "      <td>12.000000</td>\n",
       "    </tr>\n",
       "    <tr>\n",
       "      <th>75%</th>\n",
       "      <td>3.000000</td>\n",
       "      <td>4.000000</td>\n",
       "      <td>4.000000</td>\n",
       "      <td>663.000000</td>\n",
       "      <td>17.000000</td>\n",
       "      <td>16.000000</td>\n",
       "    </tr>\n",
       "    <tr>\n",
       "      <th>max</th>\n",
       "      <td>3.000000</td>\n",
       "      <td>4.000000</td>\n",
       "      <td>5.000000</td>\n",
       "      <td>1057.000000</td>\n",
       "      <td>36.000000</td>\n",
       "      <td>35.000000</td>\n",
       "    </tr>\n",
       "  </tbody>\n",
       "</table>\n",
       "</div>"
      ],
      "text/plain": [
       "               Bank          Week           Day        Number  SERVICE TIME  \\\n",
       "count  52499.000000  52499.000000  52499.000000  52499.000000  52499.000000   \n",
       "mean       1.989200      2.522639      2.956628    447.596469     13.549344   \n",
       "std        0.816569      1.122348      1.409736    267.258658      5.906840   \n",
       "min        1.000000      1.000000      1.000000      1.000000      4.000000   \n",
       "25%        1.000000      2.000000      2.000000    219.000000      9.000000   \n",
       "50%        2.000000      3.000000      3.000000    438.000000     13.000000   \n",
       "75%        3.000000      4.000000      4.000000    663.000000     17.000000   \n",
       "max        3.000000      4.000000      5.000000   1057.000000     36.000000   \n",
       "\n",
       "       WAITING TIME  \n",
       "count  52499.000000  \n",
       "mean      13.182384  \n",
       "std        5.955687  \n",
       "min        3.000000  \n",
       "25%        9.000000  \n",
       "50%       12.000000  \n",
       "75%       16.000000  \n",
       "max       35.000000  "
      ]
     },
     "execution_count": 3,
     "metadata": {},
     "output_type": "execute_result"
    }
   ],
   "source": [
    "df.describe()"
   ]
  },
  {
   "cell_type": "code",
   "execution_count": 4,
   "metadata": {},
   "outputs": [
    {
     "name": "stdout",
     "output_type": "stream",
     "text": [
      "Bank\n",
      "1    17789\n",
      "2    17488\n",
      "3    17222\n",
      "Name: Number, dtype: int64\n",
      "\n",
      "\n",
      "Bank  Week\n",
      "1     1       3944\n",
      "      2       4031\n",
      "      3       5024\n",
      "      4       4790\n",
      "2     1       4666\n",
      "      2       4198\n",
      "      3       3858\n",
      "      4       4766\n",
      "3     1       4286\n",
      "      2       4660\n",
      "      3       4212\n",
      "      4       4064\n",
      "Name: Number, dtype: int64\n",
      "\n",
      "\n",
      "Bank  Week  Day\n",
      "1     1     1       880\n",
      "            2       720\n",
      "            3      1020\n",
      "            4       802\n",
      "            5       522\n",
      "      2     1       989\n",
      "            2       684\n",
      "            3       548\n",
      "            4      1021\n",
      "            5       789\n",
      "      3     1      1000\n",
      "            2       990\n",
      "            3      1001\n",
      "            4      1051\n",
      "            5       982\n",
      "      4     1       857\n",
      "            2       981\n",
      "            3      1057\n",
      "            4       899\n",
      "            5       996\n",
      "2     1     1      1034\n",
      "            2       789\n",
      "            3      1002\n",
      "            4       910\n",
      "            5       931\n",
      "      2     1       748\n",
      "            2       924\n",
      "            3       872\n",
      "            4       764\n",
      "            5       890\n",
      "      3     1       971\n",
      "            2       685\n",
      "            3       724\n",
      "            4       873\n",
      "            5       605\n",
      "      4     1      1017\n",
      "            2      1009\n",
      "            3       891\n",
      "            4       948\n",
      "            5       901\n",
      "3     1     1       767\n",
      "            2       930\n",
      "            3       921\n",
      "            4       878\n",
      "            5       790\n",
      "      2     1       876\n",
      "            2       923\n",
      "            3       910\n",
      "            4      1002\n",
      "            5       949\n",
      "      3     1       934\n",
      "            2      1011\n",
      "            3       874\n",
      "            4       762\n",
      "            5       631\n",
      "      4     1       989\n",
      "            2       784\n",
      "            3       648\n",
      "            4       891\n",
      "            5       752\n",
      "Name: Number, dtype: int64\n"
     ]
    }
   ],
   "source": [
    "print(df.groupby(by=['Bank']).count().Number)\n",
    "\n",
    "print()\n",
    "print()\n",
    "\n",
    "print(df.groupby(by=['Bank','Week']).count().Number)\n",
    "\n",
    "print()\n",
    "print()\n",
    "\n",
    "#print(df.groupby(by=['Bank','Week','Day']).count().Number)"
   ]
  },
  {
   "cell_type": "code",
   "execution_count": 5,
   "metadata": {},
   "outputs": [],
   "source": [
    "df_art = np.array(df['ARRIVAL TIME'])\n",
    "\n",
    "x = []\n",
    "\n",
    "for i in range(len(df_art)):\n",
    "    \n",
    "    if type(df_art[i]) == str :\n",
    "        p = df_art[i].split(':')\n",
    "        x.append(float(p[0]+'.'+p[1]))\n",
    "        \n",
    "    else:\n",
    "        x.append(df_art[i])\n",
    "\n",
    "\n",
    "df['ARRIVAL TIME'] = x"
   ]
  },
  {
   "cell_type": "code",
   "execution_count": 6,
   "metadata": {},
   "outputs": [],
   "source": [
    "dep = 'WAITING TIME'\n",
    "\n",
    "ind = df.columns.to_list()\n",
    "\n",
    "ind.remove(dep)\n",
    "\n",
    "\n",
    "\n",
    "x = df[ind].values\n",
    "y = df[dep].values"
   ]
  },
  {
   "cell_type": "code",
   "execution_count": null,
   "metadata": {},
   "outputs": [],
   "source": []
  },
  {
   "cell_type": "code",
   "execution_count": 7,
   "metadata": {},
   "outputs": [],
   "source": [
    "x_train,x_test,y_train,y_test = train_test_split(x,y,test_size=0.25,random_state=1)"
   ]
  },
  {
   "cell_type": "code",
   "execution_count": 8,
   "metadata": {},
   "outputs": [],
   "source": [
    "scaler = StandardScaler()\n",
    "x_train_std = scaler.fit_transform(x_train)\n",
    "x_test_std = scaler.transform(x_test)"
   ]
  },
  {
   "cell_type": "code",
   "execution_count": null,
   "metadata": {},
   "outputs": [],
   "source": []
  },
  {
   "cell_type": "markdown",
   "metadata": {},
   "source": [
    "## Linear Regression"
   ]
  },
  {
   "cell_type": "code",
   "execution_count": 9,
   "metadata": {},
   "outputs": [],
   "source": [
    "lin_reg = LinearRegression()"
   ]
  },
  {
   "cell_type": "code",
   "execution_count": 10,
   "metadata": {},
   "outputs": [
    {
     "name": "stdout",
     "output_type": "stream",
     "text": [
      "0.7071936130523682\n"
     ]
    }
   ],
   "source": [
    "ts1 = time.time()\n",
    "lin_reg.fit(x_train_std,y_train)\n",
    "ts2 = time.time()\n",
    "lin_reg_time = (ts2-ts1)\n",
    "print(ts2-ts1)"
   ]
  },
  {
   "cell_type": "code",
   "execution_count": 11,
   "metadata": {},
   "outputs": [
    {
     "data": {
      "text/plain": [
       "0.11060472560314139"
      ]
     },
     "execution_count": 11,
     "metadata": {},
     "output_type": "execute_result"
    }
   ],
   "source": [
    "lin_reg.score(x_test_std,y_test)"
   ]
  },
  {
   "cell_type": "code",
   "execution_count": 12,
   "metadata": {},
   "outputs": [
    {
     "data": {
      "text/plain": [
       "5.566185461253065"
      ]
     },
     "execution_count": 12,
     "metadata": {},
     "output_type": "execute_result"
    }
   ],
   "source": [
    "math.sqrt(mean_squared_error(y_test,lin_reg.predict(x_test_std)))"
   ]
  },
  {
   "cell_type": "code",
   "execution_count": 13,
   "metadata": {},
   "outputs": [
    {
     "data": {
      "text/plain": [
       "4.25726315916412"
      ]
     },
     "execution_count": 13,
     "metadata": {},
     "output_type": "execute_result"
    }
   ],
   "source": [
    "mean_absolute_error(y_test,lin_reg.predict(x_test_std))"
   ]
  },
  {
   "cell_type": "markdown",
   "metadata": {},
   "source": [
    "## K Nearest Neighbour"
   ]
  },
  {
   "cell_type": "code",
   "execution_count": 14,
   "metadata": {},
   "outputs": [],
   "source": [
    "knn = KNeighborsClassifier(n_neighbors = 10,metric='minkowski')"
   ]
  },
  {
   "cell_type": "code",
   "execution_count": 15,
   "metadata": {},
   "outputs": [],
   "source": [
    "ts1 = time.time()\n",
    "knn.fit(x_train_std,y_train)\n",
    "ts2 = time.time()\n",
    "knn_time = (ts2-ts1)"
   ]
  },
  {
   "cell_type": "code",
   "execution_count": 16,
   "metadata": {},
   "outputs": [
    {
     "data": {
      "text/plain": [
       "0.2243047619047619"
      ]
     },
     "execution_count": 16,
     "metadata": {},
     "output_type": "execute_result"
    }
   ],
   "source": [
    "knn.score(x_test_std,y_test)"
   ]
  },
  {
   "cell_type": "code",
   "execution_count": 17,
   "metadata": {},
   "outputs": [
    {
     "data": {
      "text/plain": [
       "5.538133333333334"
      ]
     },
     "execution_count": 17,
     "metadata": {},
     "output_type": "execute_result"
    }
   ],
   "source": [
    "mean_squared_error(y_test,knn.predict(x_test_std))"
   ]
  },
  {
   "cell_type": "code",
   "execution_count": 18,
   "metadata": {},
   "outputs": [
    {
     "data": {
      "text/plain": [
       "1.7677714285714285"
      ]
     },
     "execution_count": 18,
     "metadata": {},
     "output_type": "execute_result"
    }
   ],
   "source": [
    "mean_absolute_error(y_test,knn.predict(x_test_std))"
   ]
  },
  {
   "cell_type": "markdown",
   "metadata": {},
   "source": [
    "## Random Forest"
   ]
  },
  {
   "cell_type": "code",
   "execution_count": 19,
   "metadata": {},
   "outputs": [],
   "source": [
    "rf = RandomForestRegressor(random_state = 1, n_jobs=-1)"
   ]
  },
  {
   "cell_type": "code",
   "execution_count": 20,
   "metadata": {},
   "outputs": [],
   "source": [
    "ts1 = time.time()\n",
    "rf.fit(x_train_std,y_train)\n",
    "ts2 = time.time()\n",
    "rf_time = (ts2-ts1)"
   ]
  },
  {
   "cell_type": "code",
   "execution_count": 21,
   "metadata": {},
   "outputs": [
    {
     "data": {
      "text/plain": [
       "0.8916139741286413"
      ]
     },
     "execution_count": 21,
     "metadata": {},
     "output_type": "execute_result"
    }
   ],
   "source": [
    "rf.score(x_test_std,y_test)"
   ]
  },
  {
   "cell_type": "code",
   "execution_count": 22,
   "metadata": {},
   "outputs": [
    {
     "data": {
      "text/plain": [
       "3.775668182857143"
      ]
     },
     "execution_count": 22,
     "metadata": {},
     "output_type": "execute_result"
    }
   ],
   "source": [
    "mean_squared_error(y_test,rf.predict(x_test_std))"
   ]
  },
  {
   "cell_type": "code",
   "execution_count": 23,
   "metadata": {},
   "outputs": [
    {
     "data": {
      "text/plain": [
       "1.5174377142857143"
      ]
     },
     "execution_count": 23,
     "metadata": {},
     "output_type": "execute_result"
    }
   ],
   "source": [
    "mean_absolute_error(y_test,rf.predict(x_test_std))"
   ]
  },
  {
   "cell_type": "markdown",
   "metadata": {},
   "source": [
    "## SVR"
   ]
  },
  {
   "cell_type": "code",
   "execution_count": 24,
   "metadata": {},
   "outputs": [],
   "source": [
    "svr = SVR(kernel='rbf')"
   ]
  },
  {
   "cell_type": "code",
   "execution_count": 25,
   "metadata": {},
   "outputs": [],
   "source": [
    "ts1 = time.time()\n",
    "svr.fit(x_train_std,y_train)\n",
    "ts2 = time.time()\n",
    "svr_time = (ts2-ts1)"
   ]
  },
  {
   "cell_type": "code",
   "execution_count": 26,
   "metadata": {},
   "outputs": [
    {
     "data": {
      "text/plain": [
       "0.738577759836459"
      ]
     },
     "execution_count": 26,
     "metadata": {},
     "output_type": "execute_result"
    }
   ],
   "source": [
    "svr.score(x_test_std,y_test)"
   ]
  },
  {
   "cell_type": "code",
   "execution_count": 27,
   "metadata": {},
   "outputs": [
    {
     "data": {
      "text/plain": [
       "9.106742557829579"
      ]
     },
     "execution_count": 27,
     "metadata": {},
     "output_type": "execute_result"
    }
   ],
   "source": [
    "mean_squared_error(y_test,svr.predict(x_test_std))"
   ]
  },
  {
   "cell_type": "code",
   "execution_count": 28,
   "metadata": {},
   "outputs": [
    {
     "data": {
      "text/plain": [
       "2.271875037614469"
      ]
     },
     "execution_count": 28,
     "metadata": {},
     "output_type": "execute_result"
    }
   ],
   "source": [
    "mean_absolute_error(y_test,svr.predict(x_test_std))"
   ]
  },
  {
   "cell_type": "markdown",
   "metadata": {},
   "source": [
    "## Extra Tree Regression"
   ]
  },
  {
   "cell_type": "code",
   "execution_count": 29,
   "metadata": {},
   "outputs": [],
   "source": [
    "etr = ExtraTreesRegressor(n_jobs=-1)"
   ]
  },
  {
   "cell_type": "code",
   "execution_count": 30,
   "metadata": {},
   "outputs": [],
   "source": [
    "ts1 = time.time()\n",
    "etr.fit(x_train_std,y_train)\n",
    "ts2 = time.time()\n",
    "et_time = (ts2-ts1)"
   ]
  },
  {
   "cell_type": "code",
   "execution_count": 31,
   "metadata": {},
   "outputs": [
    {
     "data": {
      "text/plain": [
       "0.8704682935821472"
      ]
     },
     "execution_count": 31,
     "metadata": {},
     "output_type": "execute_result"
    }
   ],
   "source": [
    "etr.score(x_test_std,y_test)"
   ]
  },
  {
   "cell_type": "code",
   "execution_count": 32,
   "metadata": {},
   "outputs": [
    {
     "data": {
      "text/plain": [
       "4.512285958095238"
      ]
     },
     "execution_count": 32,
     "metadata": {},
     "output_type": "execute_result"
    }
   ],
   "source": [
    "mean_squared_error(y_test,etr.predict(x_test_std))"
   ]
  },
  {
   "cell_type": "code",
   "execution_count": 33,
   "metadata": {},
   "outputs": [
    {
     "data": {
      "text/plain": [
       "1.6342796190476192"
      ]
     },
     "execution_count": 33,
     "metadata": {},
     "output_type": "execute_result"
    }
   ],
   "source": [
    "mean_absolute_error(y_test,etr.predict(x_test_std))"
   ]
  },
  {
   "cell_type": "markdown",
   "metadata": {},
   "source": [
    "## Ridge Regression"
   ]
  },
  {
   "cell_type": "code",
   "execution_count": 34,
   "metadata": {},
   "outputs": [],
   "source": [
    "ridge = Ridge()"
   ]
  },
  {
   "cell_type": "code",
   "execution_count": 35,
   "metadata": {},
   "outputs": [],
   "source": [
    "ts1 = time.time()\n",
    "ridge.fit(x_train_std,y_train)\n",
    "ts2 = time.time()\n",
    "rr_time = (ts2-ts1)"
   ]
  },
  {
   "cell_type": "code",
   "execution_count": 36,
   "metadata": {},
   "outputs": [
    {
     "data": {
      "text/plain": [
       "0.11060417778946208"
      ]
     },
     "execution_count": 36,
     "metadata": {},
     "output_type": "execute_result"
    }
   ],
   "source": [
    "ridge.score(x_test_std,y_test)"
   ]
  },
  {
   "cell_type": "code",
   "execution_count": 37,
   "metadata": {},
   "outputs": [
    {
     "data": {
      "text/plain": [
       "30.982439672361604"
      ]
     },
     "execution_count": 37,
     "metadata": {},
     "output_type": "execute_result"
    }
   ],
   "source": [
    "mean_squared_error(y_test,ridge.predict(x_test_std))"
   ]
  },
  {
   "cell_type": "code",
   "execution_count": 38,
   "metadata": {},
   "outputs": [
    {
     "data": {
      "text/plain": [
       "4.257281887791571"
      ]
     },
     "execution_count": 38,
     "metadata": {},
     "output_type": "execute_result"
    }
   ],
   "source": [
    "mean_absolute_error(y_test,ridge.predict(x_test_std))"
   ]
  },
  {
   "cell_type": "markdown",
   "metadata": {},
   "source": [
    "## r2 Score, RMSE and MAE for all algorithms"
   ]
  },
  {
   "cell_type": "code",
   "execution_count": 39,
   "metadata": {},
   "outputs": [],
   "source": [
    "lr_acc_score = lin_reg.score(x_test_std,y_test)\n",
    "lr_rmse = math.sqrt(mean_squared_error(y_test,lin_reg.predict(x_test_std)))\n",
    "lr_mae = mean_absolute_error(y_test,lin_reg.predict(x_test_std))\n",
    "\n",
    "\n",
    "knn_acc_score = knn.score(x_test_std,y_test)\n",
    "knn_rmse = math.sqrt(mean_squared_error(y_test,knn.predict(x_test_std)))\n",
    "knn_mae = mean_absolute_error(y_test,knn.predict(x_test_std))\n",
    "\n",
    "\n",
    "rf_acc_score = rf.score(x_test_std,y_test)\n",
    "rf_rmse = math.sqrt(mean_squared_error(y_test,rf.predict(x_test_std)))\n",
    "rf_mae = mean_absolute_error(y_test,rf.predict(x_test_std))\n",
    "\n",
    "\n",
    "svr_acc_score = svr.score(x_test_std,y_test)\n",
    "svr_rmse = math.sqrt(mean_squared_error(y_test,svr.predict(x_test_std)))\n",
    "svr_mae = mean_absolute_error(y_test,svr.predict(x_test_std))\n",
    "\n",
    "\n",
    "etr_acc_score = etr.score(x_test_std,y_test)\n",
    "etr_rmse = math.sqrt(mean_squared_error(y_test,etr.predict(x_test_std)))\n",
    "etr_mae = mean_absolute_error(y_test,etr.predict(x_test_std))\n",
    "\n",
    "\n",
    "ridge_acc_score = ridge.score(x_test_std,y_test)\n",
    "ridge_rmse = math.sqrt(mean_squared_error(y_test,ridge.predict(x_test_std)))\n",
    "ridge_mae = mean_absolute_error(y_test,ridge.predict(x_test_std))"
   ]
  },
  {
   "cell_type": "code",
   "execution_count": 40,
   "metadata": {},
   "outputs": [],
   "source": [
    "algo_scores = [['Linear Regression',lr_acc_score,lr_rmse,lr_mae,lin_reg_time],\n",
    "              ['K Nearest Neighbour',knn_acc_score,knn_rmse,knn_mae,knn_time],\n",
    "              ['Random Forest   ',rf_acc_score,rf_rmse,rf_mae,rf_time],\n",
    "              ['SVR               ',svr_acc_score,svr_rmse,svr_mae,svr_time],\n",
    "              ['Extra Tree Regression',etr_acc_score,etr_rmse,etr_mae,et_time],\n",
    "              ['Ridge Regression',ridge_acc_score,ridge_rmse,ridge_mae,rr_time],\n",
    "              ]"
   ]
  },
  {
   "cell_type": "code",
   "execution_count": 41,
   "metadata": {},
   "outputs": [
    {
     "name": "stdout",
     "output_type": "stream",
     "text": [
      "    Algorithm              Accuracy Score                  RMSE                      MAE             Time\n",
      "---------------------------------------------------------------------------------------------------------------\n",
      "Linear Regression\t0.11060472560314139\t5.566185461253065\t4.25726315916412\t0.7071936130523682\t\n",
      "\n",
      "K Nearest Neighbour\t0.2243047619047619\t2.3533238904437557\t1.7677714285714285\t0.2052292823791504\t\n",
      "\n",
      "Random Forest   \t0.8916139741286413\t1.9431078670154014\t1.5174377142857143\t5.868594646453857\t\n",
      "\n",
      "SVR               \t0.738577759836459\t3.0177379869414738\t2.271875037614469\t112.11304211616516\t\n",
      "\n",
      "Extra Tree Regression\t0.8704682935821472\t2.124214197790618\t1.6342796190476192\t5.150033473968506\t\n",
      "\n",
      "Ridge Regression\t0.11060417778946208\t5.566187175469542\t4.257281887791571\t0.4894130229949951\t\n",
      "\n"
     ]
    }
   ],
   "source": [
    "print('    Algorithm              Accuracy Score                  RMSE                      MAE             Time')\n",
    "print('---------------------------------------------------------------------------------------------------------------')\n",
    "for i in algo_scores:\n",
    "    \n",
    "    for a in i:\n",
    "        \n",
    "        print(a,end='\\t')\n",
    "    print()\n",
    "    print()"
   ]
  },
  {
   "cell_type": "markdown",
   "metadata": {},
   "source": [
    "## Plotting of scores and Algorithms"
   ]
  },
  {
   "cell_type": "code",
   "execution_count": 42,
   "metadata": {},
   "outputs": [],
   "source": [
    "rmse_scores = [5.576562592880742,2.366077726855948,1.9500983633311082,2.9929448367336007,2.1296861239785234,\n",
    "               5.57655595507925]\n",
    "\n",
    "acc_scores = [0.10833751735976205,0.22651428571428572,0.890961374834455,0.7431587610893757,0.8699535402687686,\n",
    "              0.10833964005629282]"
   ]
  },
  {
   "cell_type": "code",
   "execution_count": 43,
   "metadata": {},
   "outputs": [
    {
     "data": {
      "image/png": "[encoded data removed]",
      "text/plain": [
       "<Figure size 864x576 with 1 Axes>"
      ]
     },
     "metadata": {
      "needs_background": "light"
     },
     "output_type": "display_data"
    }
   ],
   "source": [
    "x_labels = ['Linear Regression','K Nearest Neighbour','Random Forest','SVR','Extra Tree Regression','Ridge Regression'] \n",
    "plt.figure(figsize=(12,8))\n",
    "plt.bar(x_labels,acc_scores,width=0.4)\n",
    "plt.ylabel('R-squared')\n",
    "plt.title('Algorithm Vs R-squared')\n",
    "plt.show()"
   ]
  },
  {
   "cell_type": "code",
   "execution_count": 44,
   "metadata": {},
   "outputs": [
    {
     "data": {
      "image/png": "[encoded data removed]",
      "text/plain": [
       "<Figure size 576x432 with 1 Axes>"
      ]
     },
     "metadata": {
      "needs_background": "light"
     },
     "output_type": "display_data"
    }
   ],
   "source": [
    "plt.figure(figsize=(8,6))\n",
    "plt.scatter(acc_scores,rmse_scores,c=['red','orange','blue','yellow','violet','indigo'])\n",
    "plt.xlabel('Accuracy Score')\n",
    "plt.ylabel(\"RMSE\")\n",
    "titles = ['LR','KNN','RF','SVR','ET','RR']\n",
    "for i,label in enumerate(titles):\n",
    "    plt.annotate(label,(acc_scores[i],rmse_scores[i]),xytext=(10, 5), textcoords=\"offset pixels\")\n",
    "plt.title('Accuracy Score vs RMSE')\n",
    "plt.show()"
   ]
  },
  {
   "cell_type": "markdown",
   "metadata": {},
   "source": [
    "### Predicting the real time waiting time of user"
   ]
  },
  {
   "cell_type": "code",
   "execution_count": 45,
   "metadata": {},
   "outputs": [
    {
     "name": "stdout",
     "output_type": "stream",
     "text": [
      "What bank you are in - 1 or 2 or 3 ?  2\n",
      "\n",
      "What is the week - 1 or 2 or 3 or 4 ?  4\n",
      "\n",
      "Monday -1\n",
      "tuesday -2\n",
      "Wednesday -3\n",
      "Thursday -4\n",
      "Friday -5\n",
      "\n",
      "from above data, what day is it - 1 or 2 or 3 or 4 or 5 ?  3\n",
      "\n",
      "what is your current queue length ?  12\n",
      "\n",
      "what is the arrival time(hh.mm) ?  09.00\n",
      "\n",
      "1 - Account Opening/Closing\n",
      "2 - cheque withdrawal/money deposit/money withdrawal\n",
      "3 - Gold related/fields related/others\n",
      "\n",
      "From the above options, for which service/option you came?  2\n",
      "\n",
      "Expected waiting time for you is : 10.44\n"
     ]
    }
   ],
   "source": [
    "bank = int(input('What bank you are in - 1 or 2 or 3 ?  '))\n",
    "\n",
    "print()\n",
    "week = int(input('What is the week - 1 or 2 or 3 or 4 ?  '))\n",
    "\n",
    "print()\n",
    "print('Monday -1')\n",
    "print('tuesday -2')\n",
    "print('Wednesday -3')\n",
    "print('Thursday -4')\n",
    "print('Friday -5')\n",
    "print()\n",
    "\n",
    "day = int(input('from above data, what day is it - 1 or 2 or 3 or 4 or 5 ?  '))\n",
    "\n",
    "print()\n",
    "num = int(input('what is your current queue length ?  '))\n",
    "\n",
    "print()\n",
    "art = float(input('what is the arrival time(hh.mm) ?  '))\n",
    "\n",
    "print()\n",
    "print('1 - Account Opening/Closing')\n",
    "print('2 - cheque withdrawal/money deposit/money withdrawal')\n",
    "print('3 - Gold related/fields related/others')\n",
    "print()\n",
    "\n",
    "se = int(input('From the above options, for which service/option you came?  '))\n",
    "\n",
    "if se == 1:\n",
    "    servt = 20\n",
    "elif se == 2:\n",
    "    servt = 15\n",
    "else:\n",
    "    servt = 30\n",
    "\n",
    "\n",
    "in_nstd = np.array([bank,week,day,num,art,servt])\n",
    "\n",
    "wait = rf.predict([in_nstd])\n",
    "\n",
    "print()\n",
    "\n",
    "\n",
    "\n",
    "print(f'Expected waiting time for you is : {wait[0]}')\n",
    "\n",
    "\n",
    "\n",
    "\n"
   ]
  },
  {
   "cell_type": "code",
   "execution_count": null,
   "metadata": {},
   "outputs": [],
   "source": []
  },
  {
   "cell_type": "code",
   "execution_count": null,
   "metadata": {},
   "outputs": [],
   "source": []
  },
  {
   "cell_type": "code",
   "execution_count": null,
   "metadata": {},
   "outputs": [],
   "source": []
  },
  {
   "cell_type": "code",
   "execution_count": null,
   "metadata": {},
   "outputs": [],
   "source": []
  }
 ],
 "metadata": {
  "kernelspec": {
   "display_name": "Python 3",
   "language": "python",
   "name": "python3"
  },
  "language_info": {
   "codemirror_mode": {
    "name": "ipython",
    "version": 3
   },
   "file_extension": ".py",
   "mimetype": "text/x-python",
   "name": "python",
   "nbconvert_exporter": "python",
   "pygments_lexer": "ipython3",
   "version": "3.8.3"
  }
 },
 "nbformat": 4,
 "nbformat_minor": 4
}
